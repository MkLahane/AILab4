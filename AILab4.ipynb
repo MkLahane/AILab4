{
 "cells": [
  {
   "cell_type": "code",
   "execution_count": 183,
   "source": [
    "import numpy as np\r\n",
    "import tensorflow as tf\r\n",
    "import pandas as pd\r\n",
    "from datetime import datetime"
   ],
   "outputs": [],
   "metadata": {}
  },
  {
   "cell_type": "code",
   "execution_count": 184,
   "source": [
    "#sigmoid activation function\r\n",
    "def sigmoid(x):\r\n",
    "    return 1 / (1 + np.exp(-x))\r\n",
    "def sigmoid_deriv(x):\r\n",
    "    return x * (1 - x)"
   ],
   "outputs": [],
   "metadata": {}
  },
  {
   "cell_type": "code",
   "execution_count": 185,
   "source": [
    "#relu activation function\r\n",
    "def relu(x):\r\n",
    "    return np.maximum(0,x)\r\n",
    "def relu_deriv(x):\r\n",
    "    return np.greater(x, 0)"
   ],
   "outputs": [],
   "metadata": {}
  },
  {
   "cell_type": "code",
   "execution_count": 186,
   "source": [
    "def diff(target_label, predicted_label):\r\n",
    "    return (target_label[0][0] - predicted_label[0][0])"
   ],
   "outputs": [],
   "metadata": {}
  },
  {
   "cell_type": "code",
   "execution_count": 197,
   "source": [
    "class NeuralNetwork:\r\n",
    "    def __init__(self, input_nodes, hidden_nodes, output_nodes):\r\n",
    "        self.w_ih = np.random.randn(hidden_nodes, input_nodes)\r\n",
    "        self.w_ho = np.random.randn(output_nodes, hidden_nodes)\r\n",
    "        self.bh = np.random.randn(hidden_nodes, 1)\r\n",
    "        self.bo = np.random.randn(output_nodes, 1)\r\n",
    "        self.lr = 0.01\r\n",
    "    def feed_forward(self, X, Y):\r\n",
    "        hidden_layer = sigmoid(np.dot(self.w_ih, X) + self.bh)\r\n",
    "        output_layer = sigmoid(np.dot(self.w_ho, hidden_layer) + self.bo)\r\n",
    "        prediction = 0 if output_layer[0][0] < 0.5 else 1\r\n",
    "        return hidden_layer, output_layer, diff(Y, np.array([[prediction]])), prediction\r\n",
    "    def backpropogate(self, X, o_errors, o_layer, h_layer):\r\n",
    "        #calculating output gradient\r\n",
    "        o_gradients = sigmoid_deriv(o_layer)\r\n",
    "        o_gradients = np.multiply(o_gradients, o_errors)\r\n",
    "        o_gradients = np.multiply(o_gradients, self.lr)\r\n",
    "        #calculate output weight deltas\r\n",
    "        h_layer_T = h_layer.transpose()\r\n",
    "        w_ho_delta = np.dot(o_gradients, h_layer_T)\r\n",
    "        self.w_ho += w_ho_delta\r\n",
    "        self.bo += o_gradients\r\n",
    "        who_t = self.w_ho.transpose()\r\n",
    "        #calculating hidden error\r\n",
    "        h_errors = np.dot(who_t, o_errors)\r\n",
    "        #calculating hidden gradient\r\n",
    "        h_gradients = sigmoid_deriv(h_layer)\r\n",
    "        h_gradients = np.multiply(h_gradients, h_errors)\r\n",
    "        h_gradients = np.multiply(h_gradients, self.lr)\r\n",
    "        \r\n",
    "        X_T = np.transpose(X)\r\n",
    "        w_ih_delta = np.dot(h_gradients, X_T)\r\n",
    "        self.w_ih += w_ih_delta\r\n",
    "        self.bh += h_gradients\r\n",
    "    \r\n",
    "    def train(self, X, Y, epochs=10, num_samples=1000):\r\n",
    "        for epoch in range(0, epochs):\r\n",
    "            error_s = 0\r\n",
    "            correct = 0\r\n",
    "            for i in range(num_samples):\r\n",
    "                index = np.random.choice(X.shape[0], 1)\r\n",
    "                x_train = X[index].reshape(6, 1)\r\n",
    "                y_train = Y[index].reshape(1, 1)\r\n",
    "                h_layer, o_layer, error, prediction = self.feed_forward(x_train, y_train)\r\n",
    "                if prediction == y_train[0][0]:\r\n",
    "                    correct += 1\r\n",
    "                error_s += error\r\n",
    "                error = np.array([[error]])\r\n",
    "                self.backpropogate(x_train, error, o_layer, h_layer)\r\n",
    "            avg_error = error_s / num_samples\r\n",
    "            avg_acc = correct / num_samples\r\n",
    "            print(f\"Error after epoch {epoch + 1} is: {round(avg_error, 3)} and accuracy is: {avg_acc}\")\r\n",
    "    def evaluate(self, X, Y):\r\n",
    "        num_samples = X.shape[0]\r\n",
    "        correct = 0\r\n",
    "        for i in range(num_samples):\r\n",
    "            x_val, y_val = X[i].reshape(6, 1), Y[i].reshape(1, 1)\r\n",
    "            _, __, ___, prediction = self.feed_forward(x_val, y_val)\r\n",
    "            if prediction == y_val[0][0]:\r\n",
    "                correct += 1\r\n",
    "        val_acc = correct / num_samples\r\n",
    "        return val_acc"
   ],
   "outputs": [],
   "metadata": {}
  },
  {
   "cell_type": "code",
   "execution_count": 188,
   "source": [
    "def getXY(filename):\r\n",
    "    training_data_filename = \"occupancy_data/datatraining.csv\"\r\n",
    "    data = pd.read_csv(training_data_filename)\r\n",
    "    data = data.drop(labels=['id'], axis=1)\r\n",
    "    data['date'] = [datetime.strptime(d, \"%Y-%m-%d %H:%M:%S\").timestamp() for d in data['date']] #change to date to seconds\r\n",
    "    X = data.drop(labels=[\"Occupancy\"], axis=1)\r\n",
    "    Y = data['Occupancy']\r\n",
    "    #normalize the dataset \r\n",
    "    X['date'] = tf.keras.utils.normalize(np.array(X['date']))[0]\r\n",
    "    X['Temperature'] = tf.keras.utils.normalize(np.array(X['Temperature']))[0]\r\n",
    "    X['Humidity'] = tf.keras.utils.normalize(np.array(X['Humidity']))[0]\r\n",
    "    X['Light'] = tf.keras.utils.normalize(np.array(X['Light']))[0]\r\n",
    "    X['CO2'] = tf.keras.utils.normalize(np.array(X['CO2']))[0]\r\n",
    "    X['HumidityRatio'] = tf.keras.utils.normalize(np.array(X['HumidityRatio']))[0]\r\n",
    "    X = np.array(X)\r\n",
    "    Y = np.array(Y).reshape(-1, 1)\r\n",
    "    return X, Y"
   ],
   "outputs": [],
   "metadata": {}
  },
  {
   "cell_type": "code",
   "execution_count": 189,
   "source": [
    "training_data_filename = \"occupancy_data/datatraining.csv\"\r\n",
    "X, Y = getXY(training_data_filename)"
   ],
   "outputs": [],
   "metadata": {}
  },
  {
   "cell_type": "code",
   "execution_count": 190,
   "source": [
    "X.shape, Y.shape"
   ],
   "outputs": [
    {
     "output_type": "execute_result",
     "data": {
      "text/plain": [
       "((8143, 6), (8143, 1))"
      ]
     },
     "metadata": {},
     "execution_count": 190
    }
   ],
   "metadata": {}
  },
  {
   "cell_type": "code",
   "execution_count": 191,
   "source": [
    "X, Y"
   ],
   "outputs": [
    {
     "output_type": "execute_result",
     "data": {
      "text/plain": [
       "(array([[0.01107983, 0.01244298, 0.01148291, 0.02066048, 0.0116999 ,\n",
       "         0.01342832],\n",
       "        [0.01107983, 0.01242688, 0.01148101, 0.02083022, 0.01158229,\n",
       "         0.01340157],\n",
       "        [0.01107983, 0.01242688, 0.01147154, 0.02066048, 0.01157418,\n",
       "         0.01339043],\n",
       "        ...,\n",
       "        [0.01108364, 0.01132644, 0.01519784, 0.02099997, 0.01295303,\n",
       "         0.01567707],\n",
       "        [0.01108364, 0.01132644, 0.01526732, 0.02099997, 0.0133072 ,\n",
       "         0.01574939],\n",
       "        [0.01108364, 0.01132644, 0.01524205, 0.02167895, 0.01331802,\n",
       "         0.01572309]]),\n",
       " array([[1],\n",
       "        [1],\n",
       "        [1],\n",
       "        ...,\n",
       "        [1],\n",
       "        [1],\n",
       "        [1]], dtype=int64))"
      ]
     },
     "metadata": {},
     "execution_count": 191
    }
   ],
   "metadata": {}
  },
  {
   "cell_type": "code",
   "execution_count": 207,
   "source": [
    "nn = NeuralNetwork(6, 128, 1)"
   ],
   "outputs": [],
   "metadata": {}
  },
  {
   "cell_type": "code",
   "execution_count": 208,
   "source": [
    "#training the model\r\n",
    "nn.train(X, Y, 10, X.shape[0])"
   ],
   "outputs": [
    {
     "output_type": "stream",
     "name": "stdout",
     "text": [
      "Error after epoch 1 is: 0.004 and accuracy is: 0.8085472184698514\n",
      "Error after epoch 2 is: 0.0 and accuracy is: 0.8381431904703426\n",
      "Error after epoch 3 is: -0.0 and accuracy is: 0.8800196487780916\n",
      "Error after epoch 4 is: 0.0 and accuracy is: 0.8728969667198822\n",
      "Error after epoch 5 is: 0.0 and accuracy is: 0.8719145278153014\n",
      "Error after epoch 6 is: -0.0 and accuracy is: 0.9301240329117033\n",
      "Error after epoch 7 is: 0.0 and accuracy is: 0.9506324450448238\n",
      "Error after epoch 8 is: 0.0 and accuracy is: 0.9521061034016947\n",
      "Error after epoch 9 is: 0.0 and accuracy is: 0.9560358590200172\n",
      "Error after epoch 10 is: 0.0 and accuracy is: 0.9599656146383396\n"
     ]
    }
   ],
   "metadata": {}
  },
  {
   "cell_type": "code",
   "execution_count": 201,
   "source": [
    "test1_filename = \"occupancy_data/datatest.csv\"\r\n",
    "test2_filename = \"occupancy_data/datatest2.csv\""
   ],
   "outputs": [],
   "metadata": {}
  },
  {
   "cell_type": "code",
   "execution_count": 202,
   "source": [
    "X_test1, Y_test1 = getXY(test1_filename)"
   ],
   "outputs": [],
   "metadata": {}
  },
  {
   "cell_type": "code",
   "execution_count": 211,
   "source": [
    "#testing the model performance with datatest.csv\r\n",
    "print(\"Accuracy:\", nn.evaluate(X_test1, Y_test1))"
   ],
   "outputs": [
    {
     "output_type": "stream",
     "name": "stdout",
     "text": [
      "Accuracy: 0.9831757337590569\n"
     ]
    }
   ],
   "metadata": {}
  },
  {
   "cell_type": "code",
   "execution_count": 204,
   "source": [
    "X_test2, Y_test2 = getXY(test2_filename)"
   ],
   "outputs": [],
   "metadata": {}
  },
  {
   "cell_type": "code",
   "execution_count": 212,
   "source": [
    "#testing the model performance with datatest2.csv\r\n",
    "nn.evaluate(X_test2, Y_test2)"
   ],
   "outputs": [
    {
     "output_type": "execute_result",
     "data": {
      "text/plain": [
       "0.9831757337590569"
      ]
     },
     "metadata": {},
     "execution_count": 212
    }
   ],
   "metadata": {}
  }
 ],
 "metadata": {
  "kernelspec": {
   "display_name": "Python 3 (ipykernel)",
   "language": "python",
   "name": "python3"
  },
  "language_info": {
   "codemirror_mode": {
    "name": "ipython",
    "version": 3
   },
   "file_extension": ".py",
   "mimetype": "text/x-python",
   "name": "python",
   "nbconvert_exporter": "python",
   "pygments_lexer": "ipython3",
   "version": "3.8.2"
  }
 },
 "nbformat": 4,
 "nbformat_minor": 5
}